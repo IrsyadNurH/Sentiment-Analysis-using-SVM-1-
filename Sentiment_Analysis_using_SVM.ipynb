{
  "nbformat": 4,
  "nbformat_minor": 0,
  "metadata": {
    "colab": {
      "provenance": [],
      "authorship_tag": "ABX9TyOsIEGmBfQE5LglUNszLChu",
      "include_colab_link": true
    },
    "kernelspec": {
      "name": "python3",
      "display_name": "Python 3"
    },
    "language_info": {
      "name": "python"
    }
  },
  "cells": [
    {
      "cell_type": "markdown",
      "metadata": {
        "id": "view-in-github",
        "colab_type": "text"
      },
      "source": [
        "<a href=\"https://colab.research.google.com/github/IrsyadNurH/Sentiment-Analysis-using-SVM-1-/blob/main/Sentiment_Analysis_using_SVM.ipynb\" target=\"_parent\"><img src=\"https://colab.research.google.com/assets/colab-badge.svg\" alt=\"Open In Colab\"/></a>"
      ]
    },
    {
      "cell_type": "markdown",
      "source": [
        "1227050061-Irsyad Nur Hidayatulloh- Kelas F"
      ],
      "metadata": {
        "id": "vwV25-nWb9GI"
      }
    },
    {
      "cell_type": "code",
      "execution_count": null,
      "metadata": {
        "id": "ygv0QoLxbH2S"
      },
      "outputs": [],
      "source": [
        "import pandas as pd\n",
        "# train Data\n",
        "trainData = pd.read_csv(\"https://raw.githubusercontent.com/Vasistareddy/sentiment_analysis/master/data/train.csv\")\n",
        "# test Data\n",
        "testData = pd.read_csv(\"https://raw.githubusercontent.com/Vasistareddy/sentiment_analysis/master/data/test.csv\")"
      ]
    },
    {
      "cell_type": "code",
      "source": [
        "from sklearn.feature_extraction.text import TfidfVectorizer\n",
        "# Create feature vectors\n",
        "vectorizer = TfidfVectorizer(min_df = 5,\n",
        "                             max_df = 0.8,\n",
        "                             sublinear_tf = True,\n",
        "                             use_idf = True)\n",
        "train_vectors = vectorizer.fit_transform(trainData['Content'])\n",
        "test_vectors = vectorizer.transform(testData['Content'])"
      ],
      "metadata": {
        "id": "I4GL7h5ZbPJn"
      },
      "execution_count": null,
      "outputs": []
    },
    {
      "cell_type": "code",
      "source": [
        "import time\n",
        "from sklearn import svm\n",
        "from sklearn.metrics import classification_report\n",
        "# Perform classification with SVM, kernel=linear\n",
        "classifier_linear = svm.SVC(kernel='linear')\n",
        "t0 = time.time()\n",
        "classifier_linear.fit(train_vectors, trainData['Label'])\n",
        "t1 = time.time()\n",
        "prediction_linear = classifier_linear.predict(test_vectors)\n",
        "t2 = time.time()\n",
        "time_linear_train = t1-t0\n",
        "time_linear_predict = t2-t1\n",
        "# results\n",
        "print(\"Training time: %fs; Prediction time: %fs\" % (time_linear_train, time_linear_predict))\n",
        "report = classification_report(testData['Label'], prediction_linear, output_dict=True)\n",
        "print('positive: ', report['pos'])\n",
        "print('negative: ', report['neg'])\n"
      ],
      "metadata": {
        "colab": {
          "base_uri": "https://localhost:8080/"
        },
        "id": "rSTvdZe_bREj",
        "outputId": "a1a85dbd-61e3-47e0-e121-ac331dc31126"
      },
      "execution_count": null,
      "outputs": [
        {
          "output_type": "stream",
          "name": "stdout",
          "text": [
            "Training time: 15.538780s; Prediction time: 0.947057s\n",
            "positive:  {'precision': 0.9191919191919192, 'recall': 0.91, 'f1-score': 0.914572864321608, 'support': 100.0}\n",
            "negative:  {'precision': 0.9108910891089109, 'recall': 0.92, 'f1-score': 0.9154228855721394, 'support': 100.0}\n"
          ]
        }
      ]
    }
  ]
}